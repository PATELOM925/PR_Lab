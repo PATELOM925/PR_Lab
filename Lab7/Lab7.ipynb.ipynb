{
 "cells": [
  {
   "cell_type": "markdown",
   "metadata": {},
   "source": [
    "1.  The Jaccard Similarity algorithm can be used to determine how similar two objects are. \n",
    "The computed similarity might then be used in a recommendation query. For example, \n",
    "the Jaccard Similarity algorithm can be used to display products purchased by similar \n",
    "customers based on previous purchases. \n",
    "(a) Assume one customer transaction table consists of three customers where the items \n",
    "purchased by three customers are being shown according to the following table. "
   ]
  },
  {
   "cell_type": "markdown",
   "metadata": {},
   "source": [
    "In Table 1, Customers with id C1, C2, C3 has been shown whereas the items available \n",
    "are Item 1, Item 2, ... etc. Out of the nine available items the customers bought the \n",
    "items according to their requirements. In Table 1, ‘an item purchased’ is represented by \n",
    "‘1’ and ‘an item not purchased’ is represented by ‘0’.  \n",
    "Calculate the similarity index in reference to the customer requirements between each \n",
    "pair (C1 & C2, C2 & C3, C3 & C1) using Jaccard Similarity procedure."
   ]
  },
  {
   "cell_type": "code",
   "execution_count": 2,
   "metadata": {},
   "outputs": [],
   "source": [
    "def intersection(a1, a2):\n",
    "    value = len(set(a1) & set(a2))\n",
    "    return value\n",
    "\n",
    "def union(a1, a2):\n",
    "    value = len(set(a1) | set(a2))\n",
    "    return value"
   ]
  },
  {
   "cell_type": "code",
   "execution_count": 3,
   "metadata": {},
   "outputs": [],
   "source": [
    "C1 = [2, 6, 9]\n",
    "C2 = [3, 9]\n",
    "C3 = [1, 2, 6]"
   ]
  },
  {
   "cell_type": "code",
   "execution_count": 4,
   "metadata": {},
   "outputs": [
    {
     "data": {
      "text/plain": [
       "0.25"
      ]
     },
     "execution_count": 4,
     "metadata": {},
     "output_type": "execute_result"
    }
   ],
   "source": [
    "# C1 & C2\n",
    "inter1 = intersection(C1, C2)\n",
    "union1 = union(C1, C2)\n",
    "similarity_index1 = inter1/union1\n",
    "similarity_index1\n"
   ]
  },
  {
   "cell_type": "code",
   "execution_count": 5,
   "metadata": {},
   "outputs": [
    {
     "data": {
      "text/plain": [
       "0.0"
      ]
     },
     "execution_count": 5,
     "metadata": {},
     "output_type": "execute_result"
    }
   ],
   "source": [
    "# C2 & C3\n",
    "inter2 = intersection(C2, C3)\n",
    "union2 = union(C2, C3)\n",
    "similarity_index2 = inter2/union2\n",
    "similarity_index2"
   ]
  },
  {
   "cell_type": "code",
   "execution_count": 6,
   "metadata": {},
   "outputs": [
    {
     "data": {
      "text/plain": [
       "0.5"
      ]
     },
     "execution_count": 6,
     "metadata": {},
     "output_type": "execute_result"
    }
   ],
   "source": [
    "# C3 & C1\n",
    "inter3 = intersection(C3, C1)\n",
    "union3 = union(C3, C1)\n",
    "similarity_index3 = inter3/union3\n",
    "similarity_index3"
   ]
  },
  {
   "cell_type": "code",
   "execution_count": null,
   "metadata": {},
   "outputs": [],
   "source": []
  },
  {
   "cell_type": "markdown",
   "metadata": {},
   "source": [
    "(b) Assume two sets ‘S1’ and ‘S2’, consist of some numerical values. Where \n",
    "S1 = {0, 2, 5, 7, 9} \n",
    "S2 = {0, 1, 2, 4, 5, 6, 8} \n",
    "Calculate the similarity between these two sets using Jaccard Similarity procedure."
   ]
  },
  {
   "cell_type": "code",
   "execution_count": 7,
   "metadata": {},
   "outputs": [],
   "source": [
    "S1 = {0, 2, 5, 7, 9} \n",
    "S2 = {0, 1, 2, 4, 5, 6, 8} "
   ]
  },
  {
   "cell_type": "code",
   "execution_count": 8,
   "metadata": {},
   "outputs": [
    {
     "data": {
      "text/plain": [
       "0.3333333333333333"
      ]
     },
     "execution_count": 8,
     "metadata": {},
     "output_type": "execute_result"
    }
   ],
   "source": [
    "inter4 = intersection(S1, S2)\n",
    "union4 = union(S1, S2)\n",
    "similarity_index4 = inter4/union4\n",
    "similarity_index4"
   ]
  },
  {
   "cell_type": "code",
   "execution_count": null,
   "metadata": {},
   "outputs": [],
   "source": []
  }
 ],
 "metadata": {
  "kernelspec": {
   "display_name": "Python 3",
   "language": "python",
   "name": "python3"
  },
  "language_info": {
   "codemirror_mode": {
    "name": "ipython",
    "version": 3
   },
   "file_extension": ".py",
   "mimetype": "text/x-python",
   "name": "python",
   "nbconvert_exporter": "python",
   "pygments_lexer": "ipython3",
   "version": "3.11.3"
  }
 },
 "nbformat": 4,
 "nbformat_minor": 2
}

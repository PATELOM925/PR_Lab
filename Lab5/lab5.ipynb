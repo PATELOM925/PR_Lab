{
 "cells": [
  {
   "cell_type": "markdown",
   "metadata": {},
   "source": [
    "Compute the Linear Discriminant projection for the following two dimensional dataset. \n",
    "\n",
    "– Samples for class ω1 : X1=(x1,x2)={(6,4),(4,5),(3,4),(5,7),(6,6)} \n",
    "\n",
    "– Sample for class ω2 : X2=(x1,x2)={(11,12),(7,9),(10,7),(10,9),(12,10)}"
   ]
  },
  {
   "cell_type": "code",
   "execution_count": 12,
   "metadata": {},
   "outputs": [],
   "source": [
    "import numpy as np"
   ]
  },
  {
   "cell_type": "code",
   "execution_count": 13,
   "metadata": {},
   "outputs": [],
   "source": [
    "X1 = np.array([[6, 4], [4, 5], [3, 4], [5, 7], [6, 6]]) \n",
    "X2 = np.array([[11, 12], [7, 9], [10, 7], [10, 9], [12, 10]])"
   ]
  },
  {
   "cell_type": "code",
   "execution_count": 14,
   "metadata": {},
   "outputs": [
    {
     "data": {
      "text/plain": [
       "array([4.8, 5.2])"
      ]
     },
     "execution_count": 14,
     "metadata": {},
     "output_type": "execute_result"
    }
   ],
   "source": [
    "mean_X1 = np.mean(X1, axis=0)\n",
    "mean_X2 = np.mean(X2, axis=0)\n",
    "mean_X1"
   ]
  },
  {
   "cell_type": "code",
   "execution_count": 15,
   "metadata": {},
   "outputs": [],
   "source": [
    "S_W = np.zeros((2, 2))\n",
    "for x in X1:\n",
    "    x = x.reshape(2, 1)\n",
    "    mean_X1 = mean_X1.reshape(2, 1)\n",
    "    S_W += (x - mean_X1).dot((x - mean_X1).T)\n",
    "\n",
    "for x in X2:\n",
    "    x = x.reshape(2, 1)\n",
    "    mean_X2 = mean_X2.reshape(2, 1)\n",
    "    S_W += (x - mean_X2).dot((x - mean_X2).T)"
   ]
  },
  {
   "cell_type": "code",
   "execution_count": 16,
   "metadata": {},
   "outputs": [],
   "source": [
    "mean_diff = (mean_X1 - mean_X2).reshape(2, 1)\n",
    "S_B = mean_diff.dot(mean_diff.T)"
   ]
  },
  {
   "cell_type": "code",
   "execution_count": 17,
   "metadata": {},
   "outputs": [],
   "source": [
    "eigenvalues, eigenvectors = np.linalg.eig(np.linalg.inv(S_W).dot(S_B))"
   ]
  },
  {
   "cell_type": "code",
   "execution_count": 18,
   "metadata": {},
   "outputs": [],
   "source": [
    "linear_discriminant = eigenvectors[:, np.argmax(eigenvalues)]"
   ]
  },
  {
   "cell_type": "code",
   "execution_count": 19,
   "metadata": {},
   "outputs": [],
   "source": [
    "X1_projected = X1.dot(linear_discriminant)\n",
    "X2_projected = X2.dot(linear_discriminant)"
   ]
  },
  {
   "cell_type": "code",
   "execution_count": 20,
   "metadata": {},
   "outputs": [
    {
     "name": "stdout",
     "output_type": "stream",
     "text": [
      "Linear Discriminant: [0.82816079 0.5604906 ]\n",
      "Projected Class ω1: [7.21092712 6.11509614 4.72644475 8.06423812 8.33190831]\n",
      "Projected Class ω2: [15.83565584 10.84154089 12.20504206 13.32602325 15.54283543]\n"
     ]
    }
   ],
   "source": [
    "print(\"Linear Discriminant:\", linear_discriminant)\n",
    "print(\"Projected Class ω1:\", X1_projected)\n",
    "print(\"Projected Class ω2:\", X2_projected)"
   ]
  }
 ],
 "metadata": {
  "kernelspec": {
   "display_name": "Python 3",
   "language": "python",
   "name": "python3"
  },
  "language_info": {
   "codemirror_mode": {
    "name": "ipython",
    "version": 3
   },
   "file_extension": ".py",
   "mimetype": "text/x-python",
   "name": "python",
   "nbconvert_exporter": "python",
   "pygments_lexer": "ipython3",
   "version": "3.11.3"
  }
 },
 "nbformat": 4,
 "nbformat_minor": 2
}

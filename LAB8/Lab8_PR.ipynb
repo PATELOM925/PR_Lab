{
  "nbformat": 4,
  "nbformat_minor": 0,
  "metadata": {
    "colab": {
      "private_outputs": true,
      "provenance": []
    },
    "kernelspec": {
      "name": "python3",
      "display_name": "Python 3"
    },
    "language_info": {
      "name": "python"
    }
  },
  "cells": [
    {
      "cell_type": "markdown",
      "source": [
        "Assignment -  8\n",
        "\n",
        "---\n",
        "\n",
        "1) A dataset has been attached herewith which represents the Industrial production of electric and gas utilities in the United States, from the years 1939–2019.  <br>\n",
        "2) Plot all the values on the graph and show the pattern you are generating. <br>\n",
        "3) Plot the trends of the production of electric and gas utilities. <br>\n",
        "4) Plot the seasonal variation. <br>\n",
        "5) Calculate the moving average (Take 3 different Length of period to compute Mean) and plot them. <br>\n",
        "6)Try to analyse the pattern of the data (if any exists) and predict the data for 2020 - 2024.\n",
        "\n",
        "\n"
      ],
      "metadata": {
        "id": "-80NN2p4S0Mc"
      }
    },
    {
      "cell_type": "code",
      "execution_count": null,
      "metadata": {
        "id": "5XauinOJNqwz"
      },
      "outputs": [],
      "source": [
        "import pandas as pd\n",
        "import numpy as np\n",
        "import matplotlib.pyplot as plt\n",
        "import seaborn as sns\n",
        "%matplotlib inline"
      ]
    },
    {
      "cell_type": "code",
      "source": [
        "df = pd.read_csv('/content/IPG2211A2N.csv')\n",
        "df.head()"
      ],
      "metadata": {
        "id": "4yA8QiE2TVJf"
      },
      "execution_count": null,
      "outputs": []
    },
    {
      "cell_type": "code",
      "source": [
        "df.rename(columns={'IPG2211A2N':'Production'}, inplace=True)\n",
        "df[20:30]"
      ],
      "metadata": {
        "id": "ul8ZmQVvUeZL"
      },
      "execution_count": null,
      "outputs": []
    },
    {
      "cell_type": "code",
      "source": [
        "df.info()"
      ],
      "metadata": {
        "id": "ralzTr4OUw-7"
      },
      "execution_count": null,
      "outputs": []
    },
    {
      "cell_type": "code",
      "source": [
        "df.describe()"
      ],
      "metadata": {
        "id": "_iTVqGKrUv2A"
      },
      "execution_count": null,
      "outputs": []
    },
    {
      "cell_type": "code",
      "source": [
        "from datetime import datetime"
      ],
      "metadata": {
        "id": "zmSmYwsFT2hr"
      },
      "execution_count": null,
      "outputs": []
    },
    {
      "cell_type": "code",
      "source": [
        "df['DATE'] = pd.to_datetime(df['DATE'], errors='coerce')\n",
        "df['Year'] = df['DATE'].dt.year\n",
        "df['Day'] = df['DATE'].dt.month\n",
        "df['Month'] = df['DATE'].dt.day\n",
        "df\n"
      ],
      "metadata": {
        "id": "EDctqI4gTd2m"
      },
      "execution_count": null,
      "outputs": []
    },
    {
      "cell_type": "code",
      "source": [
        "df = df[['DATE','Month','Year','Production']]\n",
        "df = df.sort_values(by=['Year','Month'])\n",
        "df.tail(10)"
      ],
      "metadata": {
        "id": "DbHXV5BfT-Hc"
      },
      "execution_count": null,
      "outputs": []
    },
    {
      "cell_type": "code",
      "source": [],
      "metadata": {
        "id": "yGByTfGJXJnD"
      },
      "execution_count": null,
      "outputs": []
    },
    {
      "cell_type": "code",
      "source": [
        "plt.figure(figsize=(20,10))\n",
        "plt.scatter(x='Year',y='Production', data=df)\n",
        "plt.title('Scatter Plot of Production')\n",
        "plt.xlabel('Date Time')\n",
        "plt.ylabel('Production')\n",
        "plt.show"
      ],
      "metadata": {
        "id": "wBWDOUCFWbDa"
      },
      "execution_count": null,
      "outputs": []
    },
    {
      "cell_type": "code",
      "source": [
        "mask = (df['DATE'] >= '1939-01-01') & (df['DATE'] <= '2019-12-31')\n",
        "df = df.loc[mask]"
      ],
      "metadata": {
        "id": "Bhdkz0Z_ZkXL"
      },
      "execution_count": null,
      "outputs": []
    },
    {
      "cell_type": "code",
      "source": [
        "plt.figure(figsize=(12, 6))\n",
        "plt.plot(df['DATE'], df['Production'], label='Gas,Electricity Production', color='g')\n",
        "plt.title('Trends of Electric and Gas Utilities Production')\n",
        "plt.xlabel('Date')\n",
        "plt.ylabel('Production')\n",
        "plt.legend()\n",
        "plt.grid(True)\n",
        "plt.show()\n"
      ],
      "metadata": {
        "id": "27efOPt6W-5T"
      },
      "execution_count": null,
      "outputs": []
    },
    {
      "cell_type": "code",
      "source": [
        "df1 = df.groupby('Month').mean()\n",
        "\n",
        "plt.figure(figsize=(12, 6))\n",
        "plt.plot(df1.index, df1['Production'], marker='o')\n",
        "plt.title('Seasonal Variation of Production')\n",
        "plt.xlabel('Month')\n",
        "plt.ylabel('Average Production')\n",
        "plt.xticks(df1.index)\n",
        "plt.legend()\n",
        "plt.grid(True)\n",
        "plt.show()"
      ],
      "metadata": {
        "id": "nKTJk9ZDYeyf"
      },
      "execution_count": null,
      "outputs": []
    },
    {
      "cell_type": "code",
      "source": [
        "# Ensure 'Production' is numeric\n",
        "df['Production'] = pd.to_numeric(df['Production'], errors='coerce')\n",
        "df_melt = df.melt(id_vars=[\"Year\"], var_name=\"Month\", value_name=\"Production_Value\")\n",
        "df_melt['Production_Value'] = pd.to_numeric(df_melt['Production_Value'], errors='coerce')\n",
        "df_reshape = df_melt.pivot_table(values=\"Production_Value\", index=\"Year\", columns=\"Month\", aggfunc='mean')\n",
        "\n",
        "df_reshape.plot(kind=\"line\", figsize=(10, 6))\n",
        "plt.xlabel(\"Year\")\n",
        "plt.ylabel(\"Production\")\n",
        "plt.title(\"Monthly Production Analysis for the Years 1939-2019\")\n",
        "plt.legend(title=\"Month\")\n",
        "plt.show()\n"
      ],
      "metadata": {
        "id": "ClxYCwJelLNP"
      },
      "execution_count": null,
      "outputs": []
    },
    {
      "cell_type": "code",
      "source": [
        "df['MA_3'] = df['Production'].rolling(window=3).mean() #3 Month\n",
        "\n",
        "plt.figure(figsize=(24, 8))\n",
        "plt.plot(df['DATE'], df['Production'], label='Production', color='b', alpha=0.5)\n",
        "plt.plot(df['DATE'], df['MA_3'], label='3 Month Moving Average', color='r')\n",
        "plt.title('Production with Moving Averages')\n",
        "plt.xlabel('YEar')\n",
        "plt.ylabel('Production')\n",
        "plt.legend()\n",
        "plt.grid(True)\n",
        "plt.show()\n"
      ],
      "metadata": {
        "id": "X3Fy0vcCdUNm"
      },
      "execution_count": null,
      "outputs": []
    },
    {
      "cell_type": "code",
      "source": [
        "df['MA_4'] = df['Production'].rolling(window=4).mean() #qUATERLY\n",
        "\n",
        "plt.figure(figsize=(24, 8))\n",
        "plt.plot(df['DATE'], df['Production'], label='Production', color='b', alpha=0.5)\n",
        "plt.plot(df['DATE'], df['MA_4'], label='4 Month Moving Average', color='g')\n",
        "plt.title('Production with Moving Averages')\n",
        "plt.xlabel('YEar')\n",
        "plt.ylabel('Production')\n",
        "plt.legend()\n",
        "plt.grid(True)\n",
        "plt.show()\n"
      ],
      "metadata": {
        "id": "l9BfveAchm14"
      },
      "execution_count": null,
      "outputs": []
    },
    {
      "cell_type": "code",
      "source": [
        "df['MA_6'] = df['Production'].rolling(window=6).mean() #half yearly\n",
        "df['MA_12'] = df['Production'].rolling(window=12).mean() #yearly\n",
        "df['MA_18'] = df['Production'].rolling(window=18).mean() #yearly\n",
        "df['MA_24'] = df['Production'].rolling(window=24).mean() #twice a yearl\n",
        "\n",
        "\n",
        "\n",
        "plt.figure(figsize=(24, 8))\n",
        "plt.plot(df['DATE'], df['Production'], label='Production', color='b', alpha=0.5)\n",
        "plt.plot(df['DATE'], df['MA_6'], label='6 Month Moving Average', color='y')\n",
        "plt.title('Production with Moving Averages')\n",
        "plt.xlabel('YEar')\n",
        "plt.ylabel('Production')\n",
        "plt.legend()\n",
        "plt.grid(True)\n",
        "plt.show()\n"
      ],
      "metadata": {
        "id": "Eg27Fl8zhwL8"
      },
      "execution_count": null,
      "outputs": []
    },
    {
      "cell_type": "code",
      "source": [
        "plt.figure(figsize=(24, 16))\n",
        "plt.plot(df['DATE'], df['Production'], label='Production', color='b', alpha=0.5)\n",
        "plt.plot(df['DATE'], df['MA_3'], label='3 Month Moving Average', color='r')\n",
        "plt.plot(df['DATE'], df['MA_4'], label='4 Month Moving Average', color='g')\n",
        "plt.plot(df['DATE'], df['MA_6'], label='6 Month Moving Average', color='y')\n",
        "plt.title('Production with Moving Averages')\n",
        "plt.xlabel('YEar')\n",
        "plt.ylabel('Production')\n",
        "plt.legend()\n",
        "plt.grid(True)\n",
        "plt.show()\n"
      ],
      "metadata": {
        "id": "tmMpQhFUiArT"
      },
      "execution_count": null,
      "outputs": []
    },
    {
      "cell_type": "code",
      "source": [
        "df"
      ],
      "metadata": {
        "id": "P1mKcw00jaKx"
      },
      "execution_count": null,
      "outputs": []
    },
    {
      "cell_type": "code",
      "source": [
        "plt.figure(figsize=(16, 8))\n",
        "plt.plot(df['DATE'], df['Production'] - df['MA_3'], label='Difference (Production - 3 Month MA)', color='r')\n",
        "plt.title('Difference between Production and 3 Month Moving Average')\n",
        "plt.xlabel('Date')\n",
        "plt.ylabel('Difference')\n",
        "plt.legend()\n",
        "plt.grid(True)\n",
        "plt.show()\n",
        "\n",
        "plt.figure(figsize=(16, 8))\n",
        "plt.plot(df['DATE'], df['Production'] - df['MA_4'], label='Difference (Production - 4 Month MA)', color='g')\n",
        "plt.title('Difference between Production and 4 Month Moving Average')\n",
        "plt.xlabel('Date')\n",
        "plt.ylabel('Difference')\n",
        "plt.legend()\n",
        "plt.grid(True)\n",
        "plt.show()\n",
        "\n",
        "plt.figure(figsize=(16, 8))\n",
        "plt.plot(df['DATE'], df['Production'] - df['MA_6'], label='Difference (Production - 6 Month MA)', color='y')\n",
        "plt.title('Difference between Production and 6 Month Moving Average')\n",
        "plt.xlabel('Date')\n",
        "plt.ylabel('Difference')\n",
        "plt.legend()\n",
        "plt.grid(True)\n",
        "plt.show()\n",
        "\n",
        "plt.figure(figsize=(16, 8))\n",
        "plt.plot(df['DATE'], df['Production'] - df['MA_12'], label='Difference (Production - 12 Month MA)', color='m')\n",
        "plt.title('Difference between Production and 6 Month Moving Average')\n",
        "plt.xlabel('Date')\n",
        "plt.ylabel('Difference')\n",
        "plt.legend()\n",
        "plt.grid(True)\n",
        "plt.show()\n",
        "\n",
        "plt.figure(figsize=(16, 8))\n",
        "plt.plot(df['DATE'], df['Production'] - df['MA_18'], label='Difference (Production - 18 Month MA)', color='c')\n",
        "plt.title('Difference between Production and 6 Month Moving Average')\n",
        "plt.xlabel('Date')\n",
        "plt.ylabel('Difference')\n",
        "plt.legend()\n",
        "plt.grid(True)\n",
        "plt.show()\n",
        "\n",
        "plt.figure(figsize=(16, 8))\n",
        "plt.plot(df['DATE'], df['Production'] - df['MA_24'], label='Difference (Production - 24 Month MA)', color='k')\n",
        "plt.title('Difference between Production and 6 Month Moving Average')\n",
        "plt.xlabel('Date')\n",
        "plt.ylabel('Difference')\n",
        "plt.legend()\n",
        "plt.grid(True)\n",
        "plt.show()\n"
      ],
      "metadata": {
        "id": "drUkUGGCjtQp"
      },
      "execution_count": null,
      "outputs": []
    },
    {
      "cell_type": "code",
      "source": [],
      "metadata": {
        "id": "WBl2gyaMgkc8"
      },
      "execution_count": null,
      "outputs": []
    }
  ]
}